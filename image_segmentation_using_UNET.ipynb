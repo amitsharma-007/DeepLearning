{
 "cells": [
  {
   "cell_type": "code",
   "execution_count": 1,
   "metadata": {},
   "outputs": [
    {
     "name": "stdout",
     "output_type": "stream",
     "text": [
      "Default GPU Device:/device:GPU:0\n"
     ]
    }
   ],
   "source": [
    "import tensorflow as tf \n",
    "\n",
    "if tf.test.gpu_device_name(): \n",
    "\n",
    "    print('Default GPU Device:{}'.format(tf.test.gpu_device_name()))\n",
    "\n",
    "else:\n",
    "\n",
    "   print(\"Please install GPU version of TF\")"
   ]
  },
  {
   "cell_type": "code",
   "execution_count": 2,
   "metadata": {},
   "outputs": [
    {
     "name": "stdout",
     "output_type": "stream",
     "text": [
      "Requirement already satisfied: opencv-python in c:\\users\\eds16\\anaconda3\\lib\\site-packages (4.2.0.32)\n",
      "Requirement already satisfied: numpy>=1.14.5 in c:\\users\\eds16\\anaconda3\\lib\\site-packages (from opencv-python) (1.16.5)\n"
     ]
    }
   ],
   "source": [
    "!pip install opencv-python "
   ]
  },
  {
   "cell_type": "code",
   "execution_count": 3,
   "metadata": {},
   "outputs": [],
   "source": [
    "import os\n",
    "import numpy as np\n",
    "import pandas as pd\n",
    "import matplotlib.pyplot as plt"
   ]
  },
  {
   "cell_type": "code",
   "execution_count": 4,
   "metadata": {},
   "outputs": [],
   "source": [
    "from tqdm import tqdm\n",
    "from itertools import chain\n",
    " \n",
    "from skimage.io import imread, imshow\n",
    "import random\n",
    "import cv2\n",
    "# tf.enable_eager_execution()"
   ]
  },
  {
   "cell_type": "code",
   "execution_count": 5,
   "metadata": {},
   "outputs": [],
   "source": [
    "%matplotlib inline"
   ]
  },
  {
   "cell_type": "code",
   "execution_count": 6,
   "metadata": {},
   "outputs": [],
   "source": [
    "IMG_WIDTH = 128\n",
    "IMG_HEIGHT = 128\n",
    "IMG_CHANNELS = 3\n",
    "DATA_PATH = 'stage1_train/'"
   ]
  },
  {
   "cell_type": "code",
   "execution_count": 7,
   "metadata": {},
   "outputs": [
    {
     "name": "stdout",
     "output_type": "stream",
     "text": [
      "E:\\PracticePojects\\DataScience\\Deep Learning\n"
     ]
    }
   ],
   "source": [
    "ROOT_DIR = os.path.abspath(os.curdir)\n",
    "print(ROOT_DIR)"
   ]
  },
  {
   "cell_type": "code",
   "execution_count": 8,
   "metadata": {},
   "outputs": [],
   "source": [
    "# for root, folders, files in os.walk(ROOT_DIR):\n",
    "#     print(root)\n",
    "#     for filename in files:\n",
    "#         print (filename)"
   ]
  },
  {
   "cell_type": "code",
   "execution_count": 9,
   "metadata": {},
   "outputs": [
    {
     "name": "stderr",
     "output_type": "stream",
     "text": [
      "100%|████████████████████████████████████████████████████████████████████████████████| 670/670 [01:39<00:00,  6.71it/s]\n"
     ]
    }
   ],
   "source": [
    "seed = 42\n",
    "random.seed = seed\n",
    "np.random.seed = seed\n",
    " \n",
    "image_ids = next(os.walk(DATA_PATH))[1]\n",
    " \n",
    "X = np.zeros((len(image_ids), IMG_HEIGHT, IMG_WIDTH, IMG_CHANNELS), dtype=np.uint8)\n",
    "Y = np.zeros((len(image_ids), IMG_HEIGHT, IMG_WIDTH, 1), dtype=np.bool)\n",
    " \n",
    "for n, id_ in tqdm(enumerate(image_ids), total=len(image_ids)):\n",
    "    path = DATA_PATH + id_\n",
    "    img = imread(path + '/images/' + id_ + '.png')[:,:,:IMG_CHANNELS]\n",
    "    img = cv2.resize(img, (IMG_HEIGHT, IMG_WIDTH))\n",
    "    X[n] = img\n",
    "    mask = np.zeros((IMG_HEIGHT, IMG_WIDTH, 1), dtype=np.bool)\n",
    "    for mask_file in next(os.walk(path + '/masks/'))[2]:\n",
    "        mask_ = imread(path + '/masks/' + mask_file)\n",
    "        mask_ = np.expand_dims(cv2.resize(mask_, (IMG_HEIGHT, IMG_WIDTH)), axis=-1)\n",
    "        mask = np.maximum(mask, mask_)\n",
    "    Y[n] = mask\n",
    " \n",
    "x_train=X\n",
    " \n",
    "y_train=Y"
   ]
  },
  {
   "cell_type": "code",
   "execution_count": 10,
   "metadata": {},
   "outputs": [
    {
     "name": "stderr",
     "output_type": "stream",
     "text": [
      "\r",
      "  0%|                                                                                          | 0/670 [00:00<?, ?it/s]"
     ]
    },
    {
     "name": "stdout",
     "output_type": "stream",
     "text": [
      "0 00071198d059ba7f5914a526d124d28e6d010c92466da21d4a04cd5413362552\n",
      "1 003cee89357d9fe13516167fd67b609a164651b21934585648c740d2c3d86dc1\n",
      "2 00ae65c1c6631ae6f2be1a449902976e6eb8483bf6b0740d00530220832c6d3e\n"
     ]
    },
    {
     "name": "stderr",
     "output_type": "stream",
     "text": [
      "  0%|                                                                                          | 0/670 [00:00<?, ?it/s]\n"
     ]
    }
   ],
   "source": [
    "counter = 0\n",
    "for x, y in tqdm(enumerate(image_ids), total=len(image_ids)):\n",
    "    counter +=1\n",
    "    print(x, y)\n",
    "    if(counter>=3):\n",
    "        break"
   ]
  },
  {
   "cell_type": "code",
   "execution_count": null,
   "metadata": {},
   "outputs": [],
   "source": []
  },
  {
   "cell_type": "code",
   "execution_count": 11,
   "metadata": {},
   "outputs": [],
   "source": [
    "# for n, id_ in tqdm(enumerate(image_ids), total=len(image_ids)):\n",
    "#     print(id_)"
   ]
  },
  {
   "cell_type": "code",
   "execution_count": 12,
   "metadata": {},
   "outputs": [
    {
     "data": {
      "image/png": "[encoded data removed]",
      "text/plain": [
       "<Figure size 432x288 with 1 Axes>"
      ]
     },
     "metadata": {
      "needs_background": "light"
     },
     "output_type": "display_data"
    },
    {
     "data": {
      "image/png": "[encoded data removed]",
      "text/plain": [
       "<Figure size 432x288 with 1 Axes>"
      ]
     },
     "metadata": {
      "needs_background": "light"
     },
     "output_type": "display_data"
    }
   ],
   "source": [
    "plt.imshow(x_train[0])\n",
    "plt.show()\n",
    "plt.imshow(np.squeeze(y_train[0]))\n",
    "plt.show()\n",
    "\n",
    "# np.squeeze(y_train[0])"
   ]
  },
  {
   "cell_type": "code",
   "execution_count": 13,
   "metadata": {},
   "outputs": [
    {
     "name": "stdout",
     "output_type": "stream",
     "text": [
      "Model: \"model\"\n",
      "__________________________________________________________________________________________________\n",
      "Layer (type)                    Output Shape         Param #     Connected to                     \n",
      "==================================================================================================\n",
      "input_1 (InputLayer)            [(None, 128, 128, 3) 0                                            \n",
      "__________________________________________________________________________________________________\n",
      "lambda (Lambda)                 (None, 128, 128, 3)  0           input_1[0][0]                    \n",
      "__________________________________________________________________________________________________\n",
      "conv2d (Conv2D)                 (None, 128, 128, 16) 448         lambda[0][0]                     \n",
      "__________________________________________________________________________________________________\n",
      "dropout (Dropout)               (None, 128, 128, 16) 0           conv2d[0][0]                     \n",
      "__________________________________________________________________________________________________\n",
      "conv2d_1 (Conv2D)               (None, 128, 128, 16) 2320        dropout[0][0]                    \n",
      "__________________________________________________________________________________________________\n",
      "max_pooling2d (MaxPooling2D)    (None, 64, 64, 16)   0           conv2d_1[0][0]                   \n",
      "__________________________________________________________________________________________________\n",
      "conv2d_2 (Conv2D)               (None, 64, 64, 32)   4640        max_pooling2d[0][0]              \n",
      "__________________________________________________________________________________________________\n",
      "dropout_1 (Dropout)             (None, 64, 64, 32)   0           conv2d_2[0][0]                   \n",
      "__________________________________________________________________________________________________\n",
      "conv2d_3 (Conv2D)               (None, 64, 64, 32)   9248        dropout_1[0][0]                  \n",
      "__________________________________________________________________________________________________\n",
      "max_pooling2d_1 (MaxPooling2D)  (None, 32, 32, 32)   0           conv2d_3[0][0]                   \n",
      "__________________________________________________________________________________________________\n",
      "conv2d_4 (Conv2D)               (None, 32, 32, 64)   18496       max_pooling2d_1[0][0]            \n",
      "__________________________________________________________________________________________________\n",
      "dropout_2 (Dropout)             (None, 32, 32, 64)   0           conv2d_4[0][0]                   \n",
      "__________________________________________________________________________________________________\n",
      "conv2d_5 (Conv2D)               (None, 32, 32, 64)   36928       dropout_2[0][0]                  \n",
      "__________________________________________________________________________________________________\n",
      "max_pooling2d_2 (MaxPooling2D)  (None, 16, 16, 64)   0           conv2d_5[0][0]                   \n",
      "__________________________________________________________________________________________________\n",
      "conv2d_6 (Conv2D)               (None, 16, 16, 128)  73856       max_pooling2d_2[0][0]            \n",
      "__________________________________________________________________________________________________\n",
      "dropout_3 (Dropout)             (None, 16, 16, 128)  0           conv2d_6[0][0]                   \n",
      "__________________________________________________________________________________________________\n",
      "conv2d_7 (Conv2D)               (None, 16, 16, 128)  147584      dropout_3[0][0]                  \n",
      "__________________________________________________________________________________________________\n",
      "max_pooling2d_3 (MaxPooling2D)  (None, 8, 8, 128)    0           conv2d_7[0][0]                   \n",
      "__________________________________________________________________________________________________\n",
      "conv2d_8 (Conv2D)               (None, 8, 8, 256)    295168      max_pooling2d_3[0][0]            \n",
      "__________________________________________________________________________________________________\n",
      "dropout_4 (Dropout)             (None, 8, 8, 256)    0           conv2d_8[0][0]                   \n",
      "__________________________________________________________________________________________________\n",
      "conv2d_9 (Conv2D)               (None, 8, 8, 256)    590080      dropout_4[0][0]                  \n",
      "__________________________________________________________________________________________________\n",
      "conv2d_transpose (Conv2DTranspo (None, 16, 16, 128)  131200      conv2d_9[0][0]                   \n",
      "__________________________________________________________________________________________________\n",
      "concatenate (Concatenate)       (None, 16, 16, 256)  0           conv2d_transpose[0][0]           \n",
      "                                                                 conv2d_7[0][0]                   \n",
      "__________________________________________________________________________________________________\n",
      "conv2d_10 (Conv2D)              (None, 16, 16, 128)  295040      concatenate[0][0]                \n",
      "__________________________________________________________________________________________________\n",
      "dropout_5 (Dropout)             (None, 16, 16, 128)  0           conv2d_10[0][0]                  \n",
      "__________________________________________________________________________________________________\n",
      "conv2d_11 (Conv2D)              (None, 16, 16, 128)  147584      dropout_5[0][0]                  \n",
      "__________________________________________________________________________________________________\n",
      "conv2d_transpose_1 (Conv2DTrans (None, 32, 32, 64)   32832       conv2d_11[0][0]                  \n",
      "__________________________________________________________________________________________________\n",
      "concatenate_1 (Concatenate)     (None, 32, 32, 128)  0           conv2d_transpose_1[0][0]         \n",
      "                                                                 conv2d_5[0][0]                   \n",
      "__________________________________________________________________________________________________\n",
      "conv2d_12 (Conv2D)              (None, 32, 32, 64)   73792       concatenate_1[0][0]              \n",
      "__________________________________________________________________________________________________\n",
      "dropout_6 (Dropout)             (None, 32, 32, 64)   0           conv2d_12[0][0]                  \n",
      "__________________________________________________________________________________________________\n",
      "conv2d_13 (Conv2D)              (None, 32, 32, 64)   36928       dropout_6[0][0]                  \n",
      "__________________________________________________________________________________________________\n",
      "conv2d_transpose_2 (Conv2DTrans (None, 64, 64, 32)   8224        conv2d_13[0][0]                  \n",
      "__________________________________________________________________________________________________\n",
      "concatenate_2 (Concatenate)     (None, 64, 64, 64)   0           conv2d_transpose_2[0][0]         \n",
      "                                                                 conv2d_3[0][0]                   \n",
      "__________________________________________________________________________________________________\n",
      "conv2d_14 (Conv2D)              (None, 64, 64, 32)   18464       concatenate_2[0][0]              \n",
      "__________________________________________________________________________________________________\n",
      "dropout_7 (Dropout)             (None, 64, 64, 32)   0           conv2d_14[0][0]                  \n",
      "__________________________________________________________________________________________________\n",
      "conv2d_15 (Conv2D)              (None, 64, 64, 32)   9248        dropout_7[0][0]                  \n",
      "__________________________________________________________________________________________________\n",
      "conv2d_transpose_3 (Conv2DTrans (None, 128, 128, 16) 2064        conv2d_15[0][0]                  \n",
      "__________________________________________________________________________________________________\n",
      "concatenate_3 (Concatenate)     (None, 128, 128, 32) 0           conv2d_transpose_3[0][0]         \n",
      "                                                                 conv2d_1[0][0]                   \n"
     ]
    },
    {
     "name": "stdout",
     "output_type": "stream",
     "text": [
      "__________________________________________________________________________________________________\n",
      "conv2d_16 (Conv2D)              (None, 128, 128, 16) 4624        concatenate_3[0][0]              \n",
      "__________________________________________________________________________________________________\n",
      "dropout_8 (Dropout)             (None, 128, 128, 16) 0           conv2d_16[0][0]                  \n",
      "__________________________________________________________________________________________________\n",
      "conv2d_17 (Conv2D)              (None, 128, 128, 16) 2320        dropout_8[0][0]                  \n",
      "__________________________________________________________________________________________________\n",
      "conv2d_18 (Conv2D)              (None, 128, 128, 1)  17          conv2d_17[0][0]                  \n",
      "==================================================================================================\n",
      "Total params: 1,941,105\n",
      "Trainable params: 1,941,105\n",
      "Non-trainable params: 0\n",
      "__________________________________________________________________________________________________\n"
     ]
    }
   ],
   "source": [
    "# Build U-Net model\n",
    "inputs = tf.keras.layers.Input((IMG_HEIGHT, IMG_WIDTH, IMG_CHANNELS))\n",
    "s = tf.keras.layers.Lambda(lambda x: x / 255)(inputs)\n",
    "\n",
    "c1 = tf.keras.layers.Conv2D(16, (3, 3), activation=tf.keras.activations.elu, kernel_initializer='he_normal',\n",
    "                            padding='same')(s)\n",
    "c1 = tf.keras.layers.Dropout(0.1)(c1)\n",
    "c1 = tf.keras.layers.Conv2D(16, (3, 3), activation=tf.keras.activations.elu, kernel_initializer='he_normal',\n",
    "                            padding='same')(c1)\n",
    "p1 = tf.keras.layers.MaxPooling2D((2, 2))(c1)\n",
    "\n",
    "c2 = tf.keras.layers.Conv2D(32, (3, 3), activation=tf.keras.activations.elu, kernel_initializer='he_normal',\n",
    "                            padding='same')(p1)\n",
    "c2 = tf.keras.layers.Dropout(0.1)(c2)\n",
    "c2 = tf.keras.layers.Conv2D(32, (3, 3), activation=tf.keras.activations.elu, kernel_initializer='he_normal',\n",
    "                            padding='same')(c2)\n",
    "p2 = tf.keras.layers.MaxPooling2D((2, 2))(c2)\n",
    "\n",
    "c3 = tf.keras.layers.Conv2D(64, (3, 3), activation=tf.keras.activations.elu, kernel_initializer='he_normal',\n",
    "                            padding='same')(p2)\n",
    "c3 = tf.keras.layers.Dropout(0.2)(c3)\n",
    "c3 = tf.keras.layers.Conv2D(64, (3, 3), activation=tf.keras.activations.elu, kernel_initializer='he_normal',\n",
    "                            padding='same')(c3)\n",
    "p3 = tf.keras.layers.MaxPooling2D((2, 2))(c3)\n",
    "\n",
    "c4 = tf.keras.layers.Conv2D(128, (3, 3), activation=tf.keras.activations.elu, kernel_initializer='he_normal',\n",
    "                            padding='same')(p3)\n",
    "c4 = tf.keras.layers.Dropout(0.2)(c4)\n",
    "c4 = tf.keras.layers.Conv2D(128, (3, 3), activation=tf.keras.activations.elu, kernel_initializer='he_normal',\n",
    "                            padding='same')(c4)\n",
    "p4 = tf.keras.layers.MaxPooling2D(pool_size=(2, 2))(c4)\n",
    "\n",
    "c5 = tf.keras.layers.Conv2D(256, (3, 3), activation=tf.keras.activations.elu, kernel_initializer='he_normal',\n",
    "                            padding='same')(p4)\n",
    "c5 = tf.keras.layers.Dropout(0.3)(c5)\n",
    "c5 = tf.keras.layers.Conv2D(256, (3, 3), activation=tf.keras.activations.elu, kernel_initializer='he_normal',\n",
    "                            padding='same')(c5)\n",
    "\n",
    "u6 = tf.keras.layers.Conv2DTranspose(128, (2, 2), strides=(2, 2), padding='same')(c5)\n",
    "u6 = tf.keras.layers.concatenate([u6, c4])\n",
    "c6 = tf.keras.layers.Conv2D(128, (3, 3), activation=tf.keras.activations.elu, kernel_initializer='he_normal',\n",
    "                            padding='same')(u6)\n",
    "c6 = tf.keras.layers.Dropout(0.2)(c6)\n",
    "c6 = tf.keras.layers.Conv2D(128, (3, 3), activation=tf.keras.activations.elu, kernel_initializer='he_normal',\n",
    "                            padding='same')(c6)\n",
    "\n",
    "u7 = tf.keras.layers.Conv2DTranspose(64, (2, 2), strides=(2, 2), padding='same')(c6)\n",
    "u7 = tf.keras.layers.concatenate([u7, c3])\n",
    "c7 = tf.keras.layers.Conv2D(64, (3, 3), activation=tf.keras.activations.elu, kernel_initializer='he_normal',\n",
    "                            padding='same')(u7)\n",
    "c7 = tf.keras.layers.Dropout(0.2)(c7)\n",
    "c7 = tf.keras.layers.Conv2D(64, (3, 3), activation=tf.keras.activations.elu, kernel_initializer='he_normal',\n",
    "                            padding='same')(c7)\n",
    "\n",
    "u8 = tf.keras.layers.Conv2DTranspose(32, (2, 2), strides=(2, 2), padding='same')(c7)\n",
    "u8 = tf.keras.layers.concatenate([u8, c2])\n",
    "c8 = tf.keras.layers.Conv2D(32, (3, 3), activation=tf.keras.activations.elu, kernel_initializer='he_normal',\n",
    "                            padding='same')(u8)\n",
    "c8 = tf.keras.layers.Dropout(0.1)(c8)\n",
    "c8 = tf.keras.layers.Conv2D(32, (3, 3), activation=tf.keras.activations.elu, kernel_initializer='he_normal',\n",
    "                            padding='same')(c8)\n",
    "\n",
    "u9 = tf.keras.layers.Conv2DTranspose(16, (2, 2), strides=(2, 2), padding='same')(c8)\n",
    "u9 = tf.keras.layers.concatenate([u9, c1], axis=3)\n",
    "c9 = tf.keras.layers.Conv2D(16, (3, 3), activation=tf.keras.activations.elu, kernel_initializer='he_normal',\n",
    "                            padding='same')(u9)\n",
    "c9 = tf.keras.layers.Dropout(0.1)(c9)\n",
    "c9 = tf.keras.layers.Conv2D(16, (3, 3), activation=tf.keras.activations.elu, kernel_initializer='he_normal',\n",
    "                            padding='same')(c9)\n",
    "\n",
    "outputs = tf.keras.layers.Conv2D(1, (1, 1), activation='sigmoid')(c9)\n",
    "\n",
    "model = tf.keras.Model(inputs=[inputs], outputs=[outputs])\n",
    "model.compile(optimizer='adam', loss='binary_crossentropy', metrics=['accuracy'])\n",
    "model.summary()"
   ]
  },
  {
   "cell_type": "code",
   "execution_count": 14,
   "metadata": {},
   "outputs": [
    {
     "name": "stdout",
     "output_type": "stream",
     "text": [
      "Train on 603 samples, validate on 67 samples\n",
      "Epoch 1/20\n",
      "592/603 [============================>.] - ETA: 16:05 - loss: 0.6570 - accuracy: 0.599 - ETA: 7:58 - loss: 0.6452 - accuracy: 0.683 - ETA: 5:15 - loss: 0.6215 - accuracy: 0.72 - ETA: 3:53 - loss: 0.5865 - accuracy: 0.75 - ETA: 3:04 - loss: 0.5625 - accuracy: 0.77 - ETA: 2:31 - loss: 0.5457 - accuracy: 0.77 - ETA: 2:07 - loss: 0.5594 - accuracy: 0.76 - ETA: 1:49 - loss: 0.5447 - accuracy: 0.76 - ETA: 1:35 - loss: 0.5245 - accuracy: 0.77 - ETA: 1:24 - loss: 0.5137 - accuracy: 0.78 - ETA: 1:15 - loss: 0.5082 - accuracy: 0.78 - ETA: 1:07 - loss: 0.4988 - accuracy: 0.79 - ETA: 1:00 - loss: 0.4865 - accuracy: 0.79 - ETA: 54s - loss: 0.4760 - accuracy: 0.8007 - ETA: 49s - loss: 0.4606 - accuracy: 0.807 - ETA: 45s - loss: 0.4473 - accuracy: 0.813 - ETA: 41s - loss: 0.4397 - accuracy: 0.814 - ETA: 37s - loss: 0.4272 - accuracy: 0.820 - ETA: 34s - loss: 0.4156 - accuracy: 0.825 - ETA: 31s - loss: 0.4057 - accuracy: 0.829 - ETA: 28s - loss: 0.3963 - accuracy: 0.833 - ETA: 25s - loss: 0.3893 - accuracy: 0.836 - ETA: 23s - loss: 0.3836 - accuracy: 0.838 - ETA: 21s - loss: 0.3794 - accuracy: 0.840 - ETA: 19s - loss: 0.3744 - accuracy: 0.842 - ETA: 17s - loss: 0.3661 - accuracy: 0.845 - ETA: 15s - loss: 0.3611 - accuracy: 0.847 - ETA: 13s - loss: 0.3566 - accuracy: 0.849 - ETA: 11s - loss: 0.3514 - accuracy: 0.852 - ETA: 10s - loss: 0.3459 - accuracy: 0.854 - ETA: 8s - loss: 0.3410 - accuracy: 0.856 - ETA: 7s - loss: 0.3354 - accuracy: 0.85 - ETA: 5s - loss: 0.3322 - accuracy: 0.86 - ETA: 4s - loss: 0.3306 - accuracy: 0.86 - ETA: 3s - loss: 0.3274 - accuracy: 0.86 - ETA: 2s - loss: 0.3236 - accuracy: 0.86 - ETA: 0s - loss: 0.3192 - accuracy: 0.8662\n",
      "Epoch 00001: saving model to training_1/cp.ckpt\n",
      "603/603 [==============================] - 53s 89ms/sample - loss: 0.3170 - accuracy: 0.8671 - val_loss: 0.1604 - val_accuracy: 0.9326\n",
      "Epoch 2/20\n",
      "592/603 [============================>.] - ETA: 17s - loss: 0.1969 - accuracy: 0.916 - ETA: 16s - loss: 0.1966 - accuracy: 0.914 - ETA: 16s - loss: 0.2044 - accuracy: 0.912 - ETA: 15s - loss: 0.1889 - accuracy: 0.920 - ETA: 15s - loss: 0.1806 - accuracy: 0.924 - ETA: 15s - loss: 0.1837 - accuracy: 0.923 - ETA: 14s - loss: 0.1816 - accuracy: 0.924 - ETA: 14s - loss: 0.1807 - accuracy: 0.925 - ETA: 13s - loss: 0.1896 - accuracy: 0.920 - ETA: 13s - loss: 0.1871 - accuracy: 0.922 - ETA: 12s - loss: 0.1851 - accuracy: 0.922 - ETA: 12s - loss: 0.1852 - accuracy: 0.922 - ETA: 11s - loss: 0.1818 - accuracy: 0.923 - ETA: 11s - loss: 0.1791 - accuracy: 0.925 - ETA: 10s - loss: 0.1752 - accuracy: 0.926 - ETA: 10s - loss: 0.1747 - accuracy: 0.927 - ETA: 9s - loss: 0.1719 - accuracy: 0.928 - ETA: 9s - loss: 0.1716 - accuracy: 0.92 - ETA: 8s - loss: 0.1703 - accuracy: 0.92 - ETA: 8s - loss: 0.1676 - accuracy: 0.93 - ETA: 7s - loss: 0.1650 - accuracy: 0.93 - ETA: 7s - loss: 0.1630 - accuracy: 0.93 - ETA: 6s - loss: 0.1615 - accuracy: 0.93 - ETA: 6s - loss: 0.1611 - accuracy: 0.93 - ETA: 6s - loss: 0.1608 - accuracy: 0.93 - ETA: 5s - loss: 0.1596 - accuracy: 0.93 - ETA: 5s - loss: 0.1580 - accuracy: 0.93 - ETA: 4s - loss: 0.1575 - accuracy: 0.93 - ETA: 4s - loss: 0.1542 - accuracy: 0.93 - ETA: 3s - loss: 0.1540 - accuracy: 0.93 - ETA: 3s - loss: 0.1543 - accuracy: 0.93 - ETA: 2s - loss: 0.1545 - accuracy: 0.93 - ETA: 2s - loss: 0.1535 - accuracy: 0.93 - ETA: 1s - loss: 0.1525 - accuracy: 0.93 - ETA: 1s - loss: 0.1536 - accuracy: 0.93 - ETA: 0s - loss: 0.1520 - accuracy: 0.93 - ETA: 0s - loss: 0.1521 - accuracy: 0.9384\n",
      "Epoch 00002: saving model to training_1/cp.ckpt\n",
      "603/603 [==============================] - 19s 32ms/sample - loss: 0.1514 - accuracy: 0.9388 - val_loss: 0.1356 - val_accuracy: 0.9500\n",
      "Epoch 3/20\n",
      "592/603 [============================>.] - ETA: 17s - loss: 0.1221 - accuracy: 0.954 - ETA: 17s - loss: 0.1319 - accuracy: 0.950 - ETA: 16s - loss: 0.1162 - accuracy: 0.955 - ETA: 16s - loss: 0.1395 - accuracy: 0.946 - ETA: 15s - loss: 0.1458 - accuracy: 0.943 - ETA: 15s - loss: 0.1451 - accuracy: 0.943 - ETA: 14s - loss: 0.1466 - accuracy: 0.943 - ETA: 14s - loss: 0.1369 - accuracy: 0.947 - ETA: 13s - loss: 0.1339 - accuracy: 0.948 - ETA: 13s - loss: 0.1330 - accuracy: 0.948 - ETA: 12s - loss: 0.1368 - accuracy: 0.947 - ETA: 12s - loss: 0.1350 - accuracy: 0.947 - ETA: 11s - loss: 0.1355 - accuracy: 0.947 - ETA: 11s - loss: 0.1327 - accuracy: 0.948 - ETA: 10s - loss: 0.1427 - accuracy: 0.945 - ETA: 10s - loss: 0.1435 - accuracy: 0.945 - ETA: 9s - loss: 0.1457 - accuracy: 0.944 - ETA: 9s - loss: 0.1477 - accuracy: 0.94 - ETA: 8s - loss: 0.1481 - accuracy: 0.94 - ETA: 8s - loss: 0.1476 - accuracy: 0.94 - ETA: 7s - loss: 0.1467 - accuracy: 0.94 - ETA: 7s - loss: 0.1467 - accuracy: 0.94 - ETA: 6s - loss: 0.1459 - accuracy: 0.94 - ETA: 6s - loss: 0.1440 - accuracy: 0.94 - ETA: 6s - loss: 0.1452 - accuracy: 0.94 - ETA: 5s - loss: 0.1456 - accuracy: 0.94 - ETA: 5s - loss: 0.1440 - accuracy: 0.94 - ETA: 4s - loss: 0.1435 - accuracy: 0.94 - ETA: 4s - loss: 0.1431 - accuracy: 0.94 - ETA: 3s - loss: 0.1442 - accuracy: 0.94 - ETA: 3s - loss: 0.1430 - accuracy: 0.94 - ETA: 2s - loss: 0.1416 - accuracy: 0.94 - ETA: 2s - loss: 0.1394 - accuracy: 0.94 - ETA: 1s - loss: 0.1399 - accuracy: 0.94 - ETA: 1s - loss: 0.1401 - accuracy: 0.94 - ETA: 0s - loss: 0.1395 - accuracy: 0.94 - ETA: 0s - loss: 0.1387 - accuracy: 0.9470\n",
      "Epoch 00003: saving model to training_1/cp.ckpt\n",
      "603/603 [==============================] - 19s 32ms/sample - loss: 0.1387 - accuracy: 0.9471 - val_loss: 0.1273 - val_accuracy: 0.9495\n",
      "Epoch 4/20\n",
      "592/603 [============================>.] - ETA: 17s - loss: 0.1509 - accuracy: 0.942 - ETA: 16s - loss: 0.1748 - accuracy: 0.928 - ETA: 16s - loss: 0.1609 - accuracy: 0.935 - ETA: 15s - loss: 0.1607 - accuracy: 0.937 - ETA: 15s - loss: 0.1553 - accuracy: 0.939 - ETA: 14s - loss: 0.1487 - accuracy: 0.942 - ETA: 14s - loss: 0.1426 - accuracy: 0.944 - ETA: 13s - loss: 0.1375 - accuracy: 0.946 - ETA: 13s - loss: 0.1339 - accuracy: 0.948 - ETA: 13s - loss: 0.1316 - accuracy: 0.948 - ETA: 12s - loss: 0.1296 - accuracy: 0.949 - ETA: 12s - loss: 0.1295 - accuracy: 0.949 - ETA: 11s - loss: 0.1276 - accuracy: 0.950 - ETA: 11s - loss: 0.1292 - accuracy: 0.949 - ETA: 10s - loss: 0.1277 - accuracy: 0.950 - ETA: 10s - loss: 0.1242 - accuracy: 0.951 - ETA: 9s - loss: 0.1216 - accuracy: 0.952 - ETA: 9s - loss: 0.1243 - accuracy: 0.95 - ETA: 8s - loss: 0.1219 - accuracy: 0.95 - ETA: 8s - loss: 0.1236 - accuracy: 0.95 - ETA: 7s - loss: 0.1232 - accuracy: 0.95 - ETA: 7s - loss: 0.1237 - accuracy: 0.95 - ETA: 6s - loss: 0.1235 - accuracy: 0.95 - ETA: 6s - loss: 0.1229 - accuracy: 0.95 - ETA: 6s - loss: 0.1224 - accuracy: 0.95 - ETA: 5s - loss: 0.1212 - accuracy: 0.95 - ETA: 5s - loss: 0.1212 - accuracy: 0.95 - ETA: 4s - loss: 0.1196 - accuracy: 0.95 - ETA: 4s - loss: 0.1191 - accuracy: 0.95 - ETA: 3s - loss: 0.1179 - accuracy: 0.95 - ETA: 3s - loss: 0.1179 - accuracy: 0.95 - ETA: 2s - loss: 0.1191 - accuracy: 0.95 - ETA: 2s - loss: 0.1192 - accuracy: 0.95 - ETA: 1s - loss: 0.1194 - accuracy: 0.95 - ETA: 1s - loss: 0.1201 - accuracy: 0.95 - ETA: 0s - loss: 0.1198 - accuracy: 0.95 - ETA: 0s - loss: 0.1193 - accuracy: 0.9537\n",
      "Epoch 00004: saving model to training_1/cp.ckpt\n",
      "603/603 [==============================] - 19s 32ms/sample - loss: 0.1195 - accuracy: 0.9537 - val_loss: 0.1103 - val_accuracy: 0.9573\n",
      "Epoch 5/20\n"
     ]
    },
    {
     "name": "stdout",
     "output_type": "stream",
     "text": [
      "592/603 [============================>.] - ETA: 17s - loss: 0.0979 - accuracy: 0.963 - ETA: 16s - loss: 0.1004 - accuracy: 0.961 - ETA: 16s - loss: 0.1237 - accuracy: 0.953 - ETA: 15s - loss: 0.1269 - accuracy: 0.952 - ETA: 15s - loss: 0.1289 - accuracy: 0.951 - ETA: 14s - loss: 0.1203 - accuracy: 0.954 - ETA: 14s - loss: 0.1209 - accuracy: 0.953 - ETA: 13s - loss: 0.1160 - accuracy: 0.955 - ETA: 13s - loss: 0.1240 - accuracy: 0.949 - ETA: 13s - loss: 0.1265 - accuracy: 0.949 - ETA: 12s - loss: 0.1231 - accuracy: 0.950 - ETA: 12s - loss: 0.1214 - accuracy: 0.951 - ETA: 11s - loss: 0.1201 - accuracy: 0.952 - ETA: 11s - loss: 0.1229 - accuracy: 0.951 - ETA: 10s - loss: 0.1237 - accuracy: 0.951 - ETA: 10s - loss: 0.1233 - accuracy: 0.951 - ETA: 9s - loss: 0.1238 - accuracy: 0.951 - ETA: 9s - loss: 0.1225 - accuracy: 0.95 - ETA: 8s - loss: 0.1215 - accuracy: 0.95 - ETA: 8s - loss: 0.1196 - accuracy: 0.95 - ETA: 7s - loss: 0.1202 - accuracy: 0.95 - ETA: 7s - loss: 0.1184 - accuracy: 0.95 - ETA: 6s - loss: 0.1186 - accuracy: 0.95 - ETA: 6s - loss: 0.1177 - accuracy: 0.95 - ETA: 5s - loss: 0.1166 - accuracy: 0.95 - ETA: 5s - loss: 0.1153 - accuracy: 0.95 - ETA: 5s - loss: 0.1169 - accuracy: 0.95 - ETA: 4s - loss: 0.1173 - accuracy: 0.95 - ETA: 4s - loss: 0.1166 - accuracy: 0.95 - ETA: 3s - loss: 0.1168 - accuracy: 0.95 - ETA: 3s - loss: 0.1166 - accuracy: 0.95 - ETA: 2s - loss: 0.1166 - accuracy: 0.95 - ETA: 2s - loss: 0.1159 - accuracy: 0.95 - ETA: 1s - loss: 0.1152 - accuracy: 0.95 - ETA: 1s - loss: 0.1154 - accuracy: 0.95 - ETA: 0s - loss: 0.1142 - accuracy: 0.95 - ETA: 0s - loss: 0.1133 - accuracy: 0.9559\n",
      "Epoch 00005: saving model to training_1/cp.ckpt\n",
      "603/603 [==============================] - 19s 32ms/sample - loss: 0.1133 - accuracy: 0.9559 - val_loss: 0.1083 - val_accuracy: 0.9588\n",
      "Epoch 6/20\n",
      "592/603 [============================>.] - ETA: 17s - loss: 0.1116 - accuracy: 0.958 - ETA: 16s - loss: 0.1200 - accuracy: 0.953 - ETA: 16s - loss: 0.1084 - accuracy: 0.958 - ETA: 15s - loss: 0.1076 - accuracy: 0.958 - ETA: 15s - loss: 0.1161 - accuracy: 0.955 - ETA: 14s - loss: 0.1073 - accuracy: 0.958 - ETA: 14s - loss: 0.1215 - accuracy: 0.953 - ETA: 13s - loss: 0.1174 - accuracy: 0.954 - ETA: 13s - loss: 0.1150 - accuracy: 0.955 - ETA: 13s - loss: 0.1173 - accuracy: 0.954 - ETA: 12s - loss: 0.1145 - accuracy: 0.955 - ETA: 12s - loss: 0.1149 - accuracy: 0.955 - ETA: 11s - loss: 0.1157 - accuracy: 0.955 - ETA: 11s - loss: 0.1120 - accuracy: 0.956 - ETA: 10s - loss: 0.1093 - accuracy: 0.957 - ETA: 10s - loss: 0.1080 - accuracy: 0.958 - ETA: 9s - loss: 0.1078 - accuracy: 0.958 - ETA: 9s - loss: 0.1076 - accuracy: 0.95 - ETA: 8s - loss: 0.1065 - accuracy: 0.95 - ETA: 8s - loss: 0.1073 - accuracy: 0.95 - ETA: 7s - loss: 0.1075 - accuracy: 0.95 - ETA: 7s - loss: 0.1068 - accuracy: 0.95 - ETA: 6s - loss: 0.1053 - accuracy: 0.95 - ETA: 6s - loss: 0.1052 - accuracy: 0.95 - ETA: 5s - loss: 0.1044 - accuracy: 0.95 - ETA: 5s - loss: 0.1046 - accuracy: 0.95 - ETA: 5s - loss: 0.1048 - accuracy: 0.95 - ETA: 4s - loss: 0.1040 - accuracy: 0.95 - ETA: 4s - loss: 0.1038 - accuracy: 0.95 - ETA: 3s - loss: 0.1032 - accuracy: 0.96 - ETA: 3s - loss: 0.1019 - accuracy: 0.96 - ETA: 2s - loss: 0.1023 - accuracy: 0.96 - ETA: 2s - loss: 0.1012 - accuracy: 0.96 - ETA: 1s - loss: 0.1005 - accuracy: 0.96 - ETA: 1s - loss: 0.1011 - accuracy: 0.96 - ETA: 0s - loss: 0.1014 - accuracy: 0.96 - ETA: 0s - loss: 0.1013 - accuracy: 0.9612\n",
      "Epoch 00006: saving model to training_1/cp.ckpt\n",
      "603/603 [==============================] - 19s 32ms/sample - loss: 0.1008 - accuracy: 0.9614 - val_loss: 0.1071 - val_accuracy: 0.9598\n",
      "Epoch 7/20\n",
      "592/603 [============================>.] - ETA: 17s - loss: 0.1269 - accuracy: 0.949 - ETA: 16s - loss: 0.1111 - accuracy: 0.955 - ETA: 16s - loss: 0.1082 - accuracy: 0.958 - ETA: 15s - loss: 0.0937 - accuracy: 0.963 - ETA: 15s - loss: 0.0969 - accuracy: 0.963 - ETA: 14s - loss: 0.0980 - accuracy: 0.962 - ETA: 14s - loss: 0.0954 - accuracy: 0.962 - ETA: 13s - loss: 0.0919 - accuracy: 0.964 - ETA: 13s - loss: 0.0913 - accuracy: 0.964 - ETA: 13s - loss: 0.0929 - accuracy: 0.964 - ETA: 12s - loss: 0.0924 - accuracy: 0.964 - ETA: 12s - loss: 0.0913 - accuracy: 0.965 - ETA: 11s - loss: 0.0939 - accuracy: 0.964 - ETA: 11s - loss: 0.0936 - accuracy: 0.964 - ETA: 10s - loss: 0.0930 - accuracy: 0.964 - ETA: 10s - loss: 0.0918 - accuracy: 0.965 - ETA: 9s - loss: 0.0924 - accuracy: 0.964 - ETA: 9s - loss: 0.0948 - accuracy: 0.96 - ETA: 8s - loss: 0.0946 - accuracy: 0.96 - ETA: 8s - loss: 0.0948 - accuracy: 0.96 - ETA: 7s - loss: 0.0938 - accuracy: 0.96 - ETA: 7s - loss: 0.0947 - accuracy: 0.96 - ETA: 6s - loss: 0.0978 - accuracy: 0.96 - ETA: 6s - loss: 0.0982 - accuracy: 0.96 - ETA: 5s - loss: 0.0991 - accuracy: 0.96 - ETA: 5s - loss: 0.0987 - accuracy: 0.96 - ETA: 5s - loss: 0.0983 - accuracy: 0.96 - ETA: 4s - loss: 0.0987 - accuracy: 0.96 - ETA: 4s - loss: 0.0978 - accuracy: 0.96 - ETA: 3s - loss: 0.0971 - accuracy: 0.96 - ETA: 3s - loss: 0.0976 - accuracy: 0.96 - ETA: 2s - loss: 0.0989 - accuracy: 0.96 - ETA: 2s - loss: 0.0975 - accuracy: 0.96 - ETA: 1s - loss: 0.0981 - accuracy: 0.96 - ETA: 1s - loss: 0.0982 - accuracy: 0.96 - ETA: 0s - loss: 0.0995 - accuracy: 0.96 - ETA: 0s - loss: 0.0991 - accuracy: 0.9620\n",
      "Epoch 00007: saving model to training_1/cp.ckpt\n",
      "603/603 [==============================] - 19s 32ms/sample - loss: 0.0984 - accuracy: 0.9623 - val_loss: 0.1169 - val_accuracy: 0.9575\n",
      "Epoch 8/20\n",
      "592/603 [============================>.] - ETA: 17s - loss: 0.1123 - accuracy: 0.954 - ETA: 16s - loss: 0.1056 - accuracy: 0.957 - ETA: 16s - loss: 0.1121 - accuracy: 0.956 - ETA: 15s - loss: 0.1114 - accuracy: 0.957 - ETA: 15s - loss: 0.1017 - accuracy: 0.961 - ETA: 14s - loss: 0.1016 - accuracy: 0.961 - ETA: 14s - loss: 0.1006 - accuracy: 0.961 - ETA: 13s - loss: 0.0991 - accuracy: 0.962 - ETA: 13s - loss: 0.0993 - accuracy: 0.961 - ETA: 13s - loss: 0.0972 - accuracy: 0.962 - ETA: 12s - loss: 0.0999 - accuracy: 0.961 - ETA: 12s - loss: 0.0982 - accuracy: 0.962 - ETA: 11s - loss: 0.1002 - accuracy: 0.961 - ETA: 11s - loss: 0.0984 - accuracy: 0.962 - ETA: 10s - loss: 0.0969 - accuracy: 0.963 - ETA: 10s - loss: 0.0955 - accuracy: 0.963 - ETA: 9s - loss: 0.0932 - accuracy: 0.964 - ETA: 9s - loss: 0.0944 - accuracy: 0.96 - ETA: 8s - loss: 0.0940 - accuracy: 0.96 - ETA: 8s - loss: 0.0931 - accuracy: 0.96 - ETA: 7s - loss: 0.0948 - accuracy: 0.96 - ETA: 7s - loss: 0.0954 - accuracy: 0.96 - ETA: 6s - loss: 0.0953 - accuracy: 0.96 - ETA: 6s - loss: 0.0951 - accuracy: 0.96 - ETA: 5s - loss: 0.0952 - accuracy: 0.96 - ETA: 5s - loss: 0.0950 - accuracy: 0.96 - ETA: 5s - loss: 0.0944 - accuracy: 0.96 - ETA: 4s - loss: 0.0938 - accuracy: 0.96 - ETA: 4s - loss: 0.0946 - accuracy: 0.96 - ETA: 3s - loss: 0.0934 - accuracy: 0.96 - ETA: 3s - loss: 0.0941 - accuracy: 0.96 - ETA: 2s - loss: 0.0943 - accuracy: 0.96 - ETA: 2s - loss: 0.0953 - accuracy: 0.96 - ETA: 1s - loss: 0.0955 - accuracy: 0.96 - ETA: 1s - loss: 0.0953 - accuracy: 0.96 - ETA: 0s - loss: 0.0946 - accuracy: 0.96 - ETA: 0s - loss: 0.0951 - accuracy: 0.9635\n",
      "Epoch 00008: saving model to training_1/cp.ckpt\n",
      "603/603 [==============================] - 19s 32ms/sample - loss: 0.0954 - accuracy: 0.9633 - val_loss: 0.0908 - val_accuracy: 0.9647\n",
      "Epoch 9/20\n"
     ]
    },
    {
     "name": "stdout",
     "output_type": "stream",
     "text": [
      "592/603 [============================>.] - ETA: 17s - loss: 0.0860 - accuracy: 0.969 - ETA: 16s - loss: 0.0987 - accuracy: 0.963 - ETA: 16s - loss: 0.0861 - accuracy: 0.967 - ETA: 15s - loss: 0.0846 - accuracy: 0.968 - ETA: 15s - loss: 0.0841 - accuracy: 0.968 - ETA: 14s - loss: 0.0823 - accuracy: 0.969 - ETA: 14s - loss: 0.0858 - accuracy: 0.967 - ETA: 13s - loss: 0.0941 - accuracy: 0.964 - ETA: 13s - loss: 0.0948 - accuracy: 0.964 - ETA: 13s - loss: 0.0947 - accuracy: 0.964 - ETA: 12s - loss: 0.0905 - accuracy: 0.966 - ETA: 12s - loss: 0.0918 - accuracy: 0.965 - ETA: 11s - loss: 0.0931 - accuracy: 0.964 - ETA: 11s - loss: 0.0925 - accuracy: 0.965 - ETA: 10s - loss: 0.0923 - accuracy: 0.965 - ETA: 10s - loss: 0.0932 - accuracy: 0.964 - ETA: 9s - loss: 0.0911 - accuracy: 0.965 - ETA: 9s - loss: 0.0910 - accuracy: 0.96 - ETA: 8s - loss: 0.0907 - accuracy: 0.96 - ETA: 8s - loss: 0.0906 - accuracy: 0.96 - ETA: 7s - loss: 0.0902 - accuracy: 0.96 - ETA: 7s - loss: 0.0907 - accuracy: 0.96 - ETA: 6s - loss: 0.0914 - accuracy: 0.96 - ETA: 6s - loss: 0.0898 - accuracy: 0.96 - ETA: 5s - loss: 0.0920 - accuracy: 0.96 - ETA: 5s - loss: 0.0911 - accuracy: 0.96 - ETA: 5s - loss: 0.0916 - accuracy: 0.96 - ETA: 4s - loss: 0.0918 - accuracy: 0.96 - ETA: 4s - loss: 0.0911 - accuracy: 0.96 - ETA: 3s - loss: 0.0915 - accuracy: 0.96 - ETA: 3s - loss: 0.0922 - accuracy: 0.96 - ETA: 2s - loss: 0.0926 - accuracy: 0.96 - ETA: 2s - loss: 0.0926 - accuracy: 0.96 - ETA: 1s - loss: 0.0925 - accuracy: 0.96 - ETA: 1s - loss: 0.0917 - accuracy: 0.96 - ETA: 0s - loss: 0.0919 - accuracy: 0.96 - ETA: 0s - loss: 0.0917 - accuracy: 0.9651\n",
      "Epoch 00009: saving model to training_1/cp.ckpt\n",
      "603/603 [==============================] - 20s 33ms/sample - loss: 0.0910 - accuracy: 0.9653 - val_loss: 0.0969 - val_accuracy: 0.9642\n",
      "Epoch 10/20\n",
      "592/603 [============================>.] - ETA: 17s - loss: 0.1012 - accuracy: 0.967 - ETA: 16s - loss: 0.0827 - accuracy: 0.972 - ETA: 16s - loss: 0.0693 - accuracy: 0.976 - ETA: 15s - loss: 0.0742 - accuracy: 0.973 - ETA: 15s - loss: 0.0791 - accuracy: 0.971 - ETA: 15s - loss: 0.0828 - accuracy: 0.969 - ETA: 14s - loss: 0.0842 - accuracy: 0.969 - ETA: 14s - loss: 0.0827 - accuracy: 0.969 - ETA: 13s - loss: 0.0879 - accuracy: 0.967 - ETA: 13s - loss: 0.0870 - accuracy: 0.967 - ETA: 12s - loss: 0.0903 - accuracy: 0.966 - ETA: 12s - loss: 0.0916 - accuracy: 0.965 - ETA: 11s - loss: 0.0915 - accuracy: 0.965 - ETA: 11s - loss: 0.0917 - accuracy: 0.965 - ETA: 10s - loss: 0.0903 - accuracy: 0.965 - ETA: 10s - loss: 0.0911 - accuracy: 0.965 - ETA: 9s - loss: 0.0909 - accuracy: 0.965 - ETA: 9s - loss: 0.0904 - accuracy: 0.96 - ETA: 8s - loss: 0.0916 - accuracy: 0.96 - ETA: 8s - loss: 0.0915 - accuracy: 0.96 - ETA: 7s - loss: 0.0919 - accuracy: 0.96 - ETA: 7s - loss: 0.0911 - accuracy: 0.96 - ETA: 6s - loss: 0.0895 - accuracy: 0.96 - ETA: 6s - loss: 0.0892 - accuracy: 0.96 - ETA: 6s - loss: 0.0905 - accuracy: 0.96 - ETA: 5s - loss: 0.0912 - accuracy: 0.96 - ETA: 5s - loss: 0.0909 - accuracy: 0.96 - ETA: 4s - loss: 0.0916 - accuracy: 0.96 - ETA: 4s - loss: 0.0920 - accuracy: 0.96 - ETA: 3s - loss: 0.0916 - accuracy: 0.96 - ETA: 3s - loss: 0.0918 - accuracy: 0.96 - ETA: 2s - loss: 0.0920 - accuracy: 0.96 - ETA: 2s - loss: 0.0906 - accuracy: 0.96 - ETA: 1s - loss: 0.0909 - accuracy: 0.96 - ETA: 1s - loss: 0.0904 - accuracy: 0.96 - ETA: 0s - loss: 0.0901 - accuracy: 0.96 - ETA: 0s - loss: 0.0906 - accuracy: 0.9653\n",
      "Epoch 00010: saving model to training_1/cp.ckpt\n",
      "603/603 [==============================] - 19s 32ms/sample - loss: 0.0905 - accuracy: 0.9654 - val_loss: 0.0917 - val_accuracy: 0.9654\n"
     ]
    }
   ],
   "source": [
    "checkpoint_path = \"training_1/cp.ckpt\"\n",
    "checkpoint_dir = os.path.dirname(checkpoint_path)\n",
    " \n",
    "# Create checkpoint callback\n",
    "cp_callback = tf.keras.callbacks.ModelCheckpoint(checkpoint_path, \n",
    "                                                 save_weights_only=True,\n",
    "                                                 verbose=1)\n",
    " \n",
    "callbacks = [\n",
    "  tf.keras.callbacks.EarlyStopping(patience=2, monitor='val_loss'),\n",
    "#   tf.keras.callbacks.TensorBoard(log_dir='./logs'),\n",
    "  cp_callback \n",
    "]\n",
    " \n",
    "results = model.fit(x_train, y_train, validation_split=0.1, batch_size=16, epochs=20,\n",
    "                    callbacks=callbacks)\n",
    " "
   ]
  },
  {
   "cell_type": "code",
   "execution_count": 15,
   "metadata": {},
   "outputs": [
    {
     "name": "stdout",
     "output_type": "stream",
     "text": [
      "1/1 [==============================] - 2s 2s/sample\n"
     ]
    },
    {
     "data": {
      "image/png": "[encoded data removed]",
      "text/plain": [
       "<Figure size 432x288 with 1 Axes>"
      ]
     },
     "metadata": {
      "needs_background": "light"
     },
     "output_type": "display_data"
    },
    {
     "data": {
      "image/png": "[encoded data removed]",
      "text/plain": [
       "<Figure size 432x288 with 1 Axes>"
      ]
     },
     "metadata": {
      "needs_background": "light"
     },
     "output_type": "display_data"
    }
   ],
   "source": [
    "idx = random.randint(0, len(x_train))\n",
    "x=np.array(x_train[idx])\n",
    "x=np.expand_dims(x, axis=0)\n",
    "predict = model.predict(x, verbose=1)\n",
    " \n",
    "predict = (predict > 0.5).astype(np.uint8)\n",
    " \n",
    "plt.imshow(np.squeeze(predict[0]))\n",
    "plt.show()\n",
    " \n",
    "plt.imshow(x_train[idx])\n",
    " \n",
    "plt.show()"
   ]
  },
  {
   "cell_type": "code",
   "execution_count": null,
   "metadata": {},
   "outputs": [],
   "source": []
  },
  {
   "cell_type": "code",
   "execution_count": null,
   "metadata": {},
   "outputs": [],
   "source": []
  },
  {
   "cell_type": "code",
   "execution_count": null,
   "metadata": {},
   "outputs": [],
   "source": []
  }
 ],
 "metadata": {
  "kernelspec": {
   "display_name": "Python 3",
   "language": "python",
   "name": "python3"
  },
  "language_info": {
   "codemirror_mode": {
    "name": "ipython",
    "version": 3
   },
   "file_extension": ".py",
   "mimetype": "text/x-python",
   "name": "python",
   "nbconvert_exporter": "python",
   "pygments_lexer": "ipython3",
   "version": "3.7.4"
  }
 },
 "nbformat": 4,
 "nbformat_minor": 2
}
