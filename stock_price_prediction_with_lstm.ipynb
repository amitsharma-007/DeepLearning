{
 "cells": [
  {
   "cell_type": "code",
   "execution_count": 1,
   "metadata": {},
   "outputs": [],
   "source": [
    "import tensorflow as tf\n",
    "import numpy as np\n",
    "import pandas as pd\n",
    "import matplotlib.pyplot as plt"
   ]
  },
  {
   "cell_type": "code",
   "execution_count": 3,
   "metadata": {},
   "outputs": [],
   "source": [
    "from sklearn.preprocessing import MinMaxScaler"
   ]
  },
  {
   "cell_type": "code",
   "execution_count": 4,
   "metadata": {},
   "outputs": [],
   "source": [
    "%matplotlib inline"
   ]
  },
  {
   "cell_type": "code",
   "execution_count": 5,
   "metadata": {},
   "outputs": [],
   "source": [
    "dataset = pd.read_csv('yahoo_stock_price.csv')"
   ]
  },
  {
   "cell_type": "code",
   "execution_count": 6,
   "metadata": {},
   "outputs": [
    {
     "data": {
      "text/html": [
       "<div>\n",
       "<style scoped>\n",
       "    .dataframe tbody tr th:only-of-type {\n",
       "        vertical-align: middle;\n",
       "    }\n",
       "\n",
       "    .dataframe tbody tr th {\n",
       "        vertical-align: top;\n",
       "    }\n",
       "\n",
       "    .dataframe thead th {\n",
       "        text-align: right;\n",
       "    }\n",
       "</style>\n",
       "<table border=\"1\" class=\"dataframe\">\n",
       "  <thead>\n",
       "    <tr style=\"text-align: right;\">\n",
       "      <th></th>\n",
       "      <th>Date</th>\n",
       "      <th>Open</th>\n",
       "      <th>High</th>\n",
       "      <th>Low</th>\n",
       "      <th>Close</th>\n",
       "      <th>Adj Close</th>\n",
       "      <th>Volume</th>\n",
       "    </tr>\n",
       "  </thead>\n",
       "  <tbody>\n",
       "    <tr>\n",
       "      <td>0</td>\n",
       "      <td>1996-08-09</td>\n",
       "      <td>14.250</td>\n",
       "      <td>16.750</td>\n",
       "      <td>14.250</td>\n",
       "      <td>16.500</td>\n",
       "      <td>15.168439</td>\n",
       "      <td>1601500</td>\n",
       "    </tr>\n",
       "    <tr>\n",
       "      <td>1</td>\n",
       "      <td>1996-08-12</td>\n",
       "      <td>16.500</td>\n",
       "      <td>16.750</td>\n",
       "      <td>16.375</td>\n",
       "      <td>16.500</td>\n",
       "      <td>15.168439</td>\n",
       "      <td>260900</td>\n",
       "    </tr>\n",
       "    <tr>\n",
       "      <td>2</td>\n",
       "      <td>1996-08-13</td>\n",
       "      <td>16.500</td>\n",
       "      <td>16.750</td>\n",
       "      <td>16.375</td>\n",
       "      <td>16.375</td>\n",
       "      <td>15.053520</td>\n",
       "      <td>162800</td>\n",
       "    </tr>\n",
       "    <tr>\n",
       "      <td>3</td>\n",
       "      <td>1996-08-14</td>\n",
       "      <td>16.375</td>\n",
       "      <td>16.625</td>\n",
       "      <td>16.375</td>\n",
       "      <td>16.375</td>\n",
       "      <td>15.053520</td>\n",
       "      <td>59500</td>\n",
       "    </tr>\n",
       "    <tr>\n",
       "      <td>4</td>\n",
       "      <td>1996-08-15</td>\n",
       "      <td>16.625</td>\n",
       "      <td>16.625</td>\n",
       "      <td>16.375</td>\n",
       "      <td>16.625</td>\n",
       "      <td>15.283343</td>\n",
       "      <td>62300</td>\n",
       "    </tr>\n",
       "  </tbody>\n",
       "</table>\n",
       "</div>"
      ],
      "text/plain": [
       "         Date    Open    High     Low   Close  Adj Close   Volume\n",
       "0  1996-08-09  14.250  16.750  14.250  16.500  15.168439  1601500\n",
       "1  1996-08-12  16.500  16.750  16.375  16.500  15.168439   260900\n",
       "2  1996-08-13  16.500  16.750  16.375  16.375  15.053520   162800\n",
       "3  1996-08-14  16.375  16.625  16.375  16.375  15.053520    59500\n",
       "4  1996-08-15  16.625  16.625  16.375  16.625  15.283343    62300"
      ]
     },
     "execution_count": 6,
     "metadata": {},
     "output_type": "execute_result"
    }
   ],
   "source": [
    "dataset.head(5)"
   ]
  },
  {
   "cell_type": "code",
   "execution_count": 7,
   "metadata": {},
   "outputs": [],
   "source": [
    "processed_dataset = dataset.drop(['Date', 'Adj Close'], axis=1)"
   ]
  },
  {
   "cell_type": "code",
   "execution_count": 8,
   "metadata": {},
   "outputs": [
    {
     "data": {
      "text/html": [
       "<div>\n",
       "<style scoped>\n",
       "    .dataframe tbody tr th:only-of-type {\n",
       "        vertical-align: middle;\n",
       "    }\n",
       "\n",
       "    .dataframe tbody tr th {\n",
       "        vertical-align: top;\n",
       "    }\n",
       "\n",
       "    .dataframe thead th {\n",
       "        text-align: right;\n",
       "    }\n",
       "</style>\n",
       "<table border=\"1\" class=\"dataframe\">\n",
       "  <thead>\n",
       "    <tr style=\"text-align: right;\">\n",
       "      <th></th>\n",
       "      <th>Open</th>\n",
       "      <th>High</th>\n",
       "      <th>Low</th>\n",
       "      <th>Close</th>\n",
       "      <th>Volume</th>\n",
       "    </tr>\n",
       "  </thead>\n",
       "  <tbody>\n",
       "    <tr>\n",
       "      <td>count</td>\n",
       "      <td>5909.000000</td>\n",
       "      <td>5909.000000</td>\n",
       "      <td>5909.000000</td>\n",
       "      <td>5909.000000</td>\n",
       "      <td>5.909000e+03</td>\n",
       "    </tr>\n",
       "    <tr>\n",
       "      <td>mean</td>\n",
       "      <td>12.227177</td>\n",
       "      <td>12.398347</td>\n",
       "      <td>12.056180</td>\n",
       "      <td>12.229896</td>\n",
       "      <td>6.455681e+04</td>\n",
       "    </tr>\n",
       "    <tr>\n",
       "      <td>std</td>\n",
       "      <td>8.544484</td>\n",
       "      <td>8.630468</td>\n",
       "      <td>8.460584</td>\n",
       "      <td>8.543726</td>\n",
       "      <td>8.674407e+04</td>\n",
       "    </tr>\n",
       "    <tr>\n",
       "      <td>min</td>\n",
       "      <td>1.187500</td>\n",
       "      <td>1.312500</td>\n",
       "      <td>1.062500</td>\n",
       "      <td>1.187500</td>\n",
       "      <td>0.000000e+00</td>\n",
       "    </tr>\n",
       "    <tr>\n",
       "      <td>25%</td>\n",
       "      <td>4.800000</td>\n",
       "      <td>4.850000</td>\n",
       "      <td>4.710000</td>\n",
       "      <td>4.800000</td>\n",
       "      <td>1.910000e+04</td>\n",
       "    </tr>\n",
       "    <tr>\n",
       "      <td>50%</td>\n",
       "      <td>7.940000</td>\n",
       "      <td>8.050000</td>\n",
       "      <td>7.730000</td>\n",
       "      <td>7.950000</td>\n",
       "      <td>4.190000e+04</td>\n",
       "    </tr>\n",
       "    <tr>\n",
       "      <td>75%</td>\n",
       "      <td>20.520000</td>\n",
       "      <td>20.870001</td>\n",
       "      <td>20.250000</td>\n",
       "      <td>20.549999</td>\n",
       "      <td>8.080000e+04</td>\n",
       "    </tr>\n",
       "    <tr>\n",
       "      <td>max</td>\n",
       "      <td>29.000000</td>\n",
       "      <td>29.250000</td>\n",
       "      <td>28.840000</td>\n",
       "      <td>29.000000</td>\n",
       "      <td>2.073400e+06</td>\n",
       "    </tr>\n",
       "  </tbody>\n",
       "</table>\n",
       "</div>"
      ],
      "text/plain": [
       "              Open         High          Low        Close        Volume\n",
       "count  5909.000000  5909.000000  5909.000000  5909.000000  5.909000e+03\n",
       "mean     12.227177    12.398347    12.056180    12.229896  6.455681e+04\n",
       "std       8.544484     8.630468     8.460584     8.543726  8.674407e+04\n",
       "min       1.187500     1.312500     1.062500     1.187500  0.000000e+00\n",
       "25%       4.800000     4.850000     4.710000     4.800000  1.910000e+04\n",
       "50%       7.940000     8.050000     7.730000     7.950000  4.190000e+04\n",
       "75%      20.520000    20.870001    20.250000    20.549999  8.080000e+04\n",
       "max      29.000000    29.250000    28.840000    29.000000  2.073400e+06"
      ]
     },
     "execution_count": 8,
     "metadata": {},
     "output_type": "execute_result"
    }
   ],
   "source": [
    "processed_dataset.describe()"
   ]
  },
  {
   "cell_type": "code",
   "execution_count": 9,
   "metadata": {},
   "outputs": [],
   "source": [
    "train_dataset = processed_dataset[:4000]\n",
    "test_dataset = processed_dataset[4000:]"
   ]
  },
  {
   "cell_type": "code",
   "execution_count": 10,
   "metadata": {},
   "outputs": [
    {
     "data": {
      "text/html": [
       "<div>\n",
       "<style scoped>\n",
       "    .dataframe tbody tr th:only-of-type {\n",
       "        vertical-align: middle;\n",
       "    }\n",
       "\n",
       "    .dataframe tbody tr th {\n",
       "        vertical-align: top;\n",
       "    }\n",
       "\n",
       "    .dataframe thead th {\n",
       "        text-align: right;\n",
       "    }\n",
       "</style>\n",
       "<table border=\"1\" class=\"dataframe\">\n",
       "  <thead>\n",
       "    <tr style=\"text-align: right;\">\n",
       "      <th></th>\n",
       "      <th>Open</th>\n",
       "      <th>High</th>\n",
       "      <th>Low</th>\n",
       "      <th>Close</th>\n",
       "      <th>Volume</th>\n",
       "    </tr>\n",
       "  </thead>\n",
       "  <tbody>\n",
       "    <tr>\n",
       "      <td>count</td>\n",
       "      <td>4000.000000</td>\n",
       "      <td>4000.000000</td>\n",
       "      <td>4000.000000</td>\n",
       "      <td>4000.000000</td>\n",
       "      <td>4.000000e+03</td>\n",
       "    </tr>\n",
       "    <tr>\n",
       "      <td>mean</td>\n",
       "      <td>7.952440</td>\n",
       "      <td>8.082288</td>\n",
       "      <td>7.818360</td>\n",
       "      <td>7.954134</td>\n",
       "      <td>4.511190e+04</td>\n",
       "    </tr>\n",
       "    <tr>\n",
       "      <td>std</td>\n",
       "      <td>6.422064</td>\n",
       "      <td>6.500436</td>\n",
       "      <td>6.339941</td>\n",
       "      <td>6.421408</td>\n",
       "      <td>7.404356e+04</td>\n",
       "    </tr>\n",
       "    <tr>\n",
       "      <td>min</td>\n",
       "      <td>1.187500</td>\n",
       "      <td>1.312500</td>\n",
       "      <td>1.062500</td>\n",
       "      <td>1.187500</td>\n",
       "      <td>0.000000e+00</td>\n",
       "    </tr>\n",
       "    <tr>\n",
       "      <td>25%</td>\n",
       "      <td>4.157500</td>\n",
       "      <td>4.220000</td>\n",
       "      <td>4.057500</td>\n",
       "      <td>4.130000</td>\n",
       "      <td>1.357500e+04</td>\n",
       "    </tr>\n",
       "    <tr>\n",
       "      <td>50%</td>\n",
       "      <td>5.130000</td>\n",
       "      <td>5.210000</td>\n",
       "      <td>5.050000</td>\n",
       "      <td>5.140000</td>\n",
       "      <td>2.690000e+04</td>\n",
       "    </tr>\n",
       "    <tr>\n",
       "      <td>75%</td>\n",
       "      <td>8.070000</td>\n",
       "      <td>8.232500</td>\n",
       "      <td>7.950000</td>\n",
       "      <td>8.092500</td>\n",
       "      <td>5.070000e+04</td>\n",
       "    </tr>\n",
       "    <tr>\n",
       "      <td>max</td>\n",
       "      <td>28.875000</td>\n",
       "      <td>29.250000</td>\n",
       "      <td>27.937500</td>\n",
       "      <td>29.000000</td>\n",
       "      <td>1.857100e+06</td>\n",
       "    </tr>\n",
       "  </tbody>\n",
       "</table>\n",
       "</div>"
      ],
      "text/plain": [
       "              Open         High          Low        Close        Volume\n",
       "count  4000.000000  4000.000000  4000.000000  4000.000000  4.000000e+03\n",
       "mean      7.952440     8.082288     7.818360     7.954134  4.511190e+04\n",
       "std       6.422064     6.500436     6.339941     6.421408  7.404356e+04\n",
       "min       1.187500     1.312500     1.062500     1.187500  0.000000e+00\n",
       "25%       4.157500     4.220000     4.057500     4.130000  1.357500e+04\n",
       "50%       5.130000     5.210000     5.050000     5.140000  2.690000e+04\n",
       "75%       8.070000     8.232500     7.950000     8.092500  5.070000e+04\n",
       "max      28.875000    29.250000    27.937500    29.000000  1.857100e+06"
      ]
     },
     "execution_count": 10,
     "metadata": {},
     "output_type": "execute_result"
    }
   ],
   "source": [
    "train_dataset.describe()"
   ]
  },
  {
   "cell_type": "code",
   "execution_count": 11,
   "metadata": {},
   "outputs": [
    {
     "data": {
      "text/html": [
       "<div>\n",
       "<style scoped>\n",
       "    .dataframe tbody tr th:only-of-type {\n",
       "        vertical-align: middle;\n",
       "    }\n",
       "\n",
       "    .dataframe tbody tr th {\n",
       "        vertical-align: top;\n",
       "    }\n",
       "\n",
       "    .dataframe thead th {\n",
       "        text-align: right;\n",
       "    }\n",
       "</style>\n",
       "<table border=\"1\" class=\"dataframe\">\n",
       "  <thead>\n",
       "    <tr style=\"text-align: right;\">\n",
       "      <th></th>\n",
       "      <th>Open</th>\n",
       "      <th>High</th>\n",
       "      <th>Low</th>\n",
       "      <th>Close</th>\n",
       "      <th>Volume</th>\n",
       "    </tr>\n",
       "  </thead>\n",
       "  <tbody>\n",
       "    <tr>\n",
       "      <td>count</td>\n",
       "      <td>1909.000000</td>\n",
       "      <td>1909.000000</td>\n",
       "      <td>1909.000000</td>\n",
       "      <td>1909.000000</td>\n",
       "      <td>1.909000e+03</td>\n",
       "    </tr>\n",
       "    <tr>\n",
       "      <td>mean</td>\n",
       "      <td>21.184196</td>\n",
       "      <td>21.441949</td>\n",
       "      <td>20.935846</td>\n",
       "      <td>21.189062</td>\n",
       "      <td>1.053005e+05</td>\n",
       "    </tr>\n",
       "    <tr>\n",
       "      <td>std</td>\n",
       "      <td>4.587434</td>\n",
       "      <td>4.603374</td>\n",
       "      <td>4.567567</td>\n",
       "      <td>4.578782</td>\n",
       "      <td>9.672084e+04</td>\n",
       "    </tr>\n",
       "    <tr>\n",
       "      <td>min</td>\n",
       "      <td>7.660000</td>\n",
       "      <td>7.910000</td>\n",
       "      <td>7.650000</td>\n",
       "      <td>7.760000</td>\n",
       "      <td>1.170000e+04</td>\n",
       "    </tr>\n",
       "    <tr>\n",
       "      <td>25%</td>\n",
       "      <td>18.570000</td>\n",
       "      <td>18.840000</td>\n",
       "      <td>18.360001</td>\n",
       "      <td>18.600000</td>\n",
       "      <td>5.630000e+04</td>\n",
       "    </tr>\n",
       "    <tr>\n",
       "      <td>50%</td>\n",
       "      <td>21.690001</td>\n",
       "      <td>22.070000</td>\n",
       "      <td>21.440001</td>\n",
       "      <td>21.760000</td>\n",
       "      <td>8.110000e+04</td>\n",
       "    </tr>\n",
       "    <tr>\n",
       "      <td>75%</td>\n",
       "      <td>24.559999</td>\n",
       "      <td>24.840000</td>\n",
       "      <td>24.299999</td>\n",
       "      <td>24.549999</td>\n",
       "      <td>1.260000e+05</td>\n",
       "    </tr>\n",
       "    <tr>\n",
       "      <td>max</td>\n",
       "      <td>29.000000</td>\n",
       "      <td>29.110001</td>\n",
       "      <td>28.840000</td>\n",
       "      <td>28.930000</td>\n",
       "      <td>2.073400e+06</td>\n",
       "    </tr>\n",
       "  </tbody>\n",
       "</table>\n",
       "</div>"
      ],
      "text/plain": [
       "              Open         High          Low        Close        Volume\n",
       "count  1909.000000  1909.000000  1909.000000  1909.000000  1.909000e+03\n",
       "mean     21.184196    21.441949    20.935846    21.189062  1.053005e+05\n",
       "std       4.587434     4.603374     4.567567     4.578782  9.672084e+04\n",
       "min       7.660000     7.910000     7.650000     7.760000  1.170000e+04\n",
       "25%      18.570000    18.840000    18.360001    18.600000  5.630000e+04\n",
       "50%      21.690001    22.070000    21.440001    21.760000  8.110000e+04\n",
       "75%      24.559999    24.840000    24.299999    24.549999  1.260000e+05\n",
       "max      29.000000    29.110001    28.840000    28.930000  2.073400e+06"
      ]
     },
     "execution_count": 11,
     "metadata": {},
     "output_type": "execute_result"
    }
   ],
   "source": [
    "test_dataset.describe()"
   ]
  },
  {
   "cell_type": "code",
   "execution_count": 12,
   "metadata": {},
   "outputs": [],
   "source": [
    "scaler = MinMaxScaler()"
   ]
  },
  {
   "cell_type": "code",
   "execution_count": 13,
   "metadata": {},
   "outputs": [],
   "source": [
    "train_dataset = scaler.fit_transform(train_dataset)\n",
    "test_dataset = scaler.fit_transform(test_dataset)"
   ]
  },
  {
   "cell_type": "code",
   "execution_count": 14,
   "metadata": {},
   "outputs": [
    {
     "name": "stdout",
     "output_type": "stream",
     "text": [
      "[[0.4717833  0.55257271 0.49069767 0.5505618  0.86236605]\n",
      " [0.5530474  0.55257271 0.56976744 0.5505618  0.14048786]\n",
      " [0.5530474  0.55257271 0.56976744 0.54606742 0.08766356]\n",
      " [0.54853273 0.54809843 0.56976744 0.54606742 0.0320392 ]\n",
      " [0.55756208 0.54809843 0.56976744 0.55505618 0.03354693]]\n"
     ]
    }
   ],
   "source": [
    "print(train_dataset[0:5])"
   ]
  },
  {
   "cell_type": "code",
   "execution_count": 15,
   "metadata": {},
   "outputs": [
    {
     "name": "stdout",
     "output_type": "stream",
     "text": [
      "[[0.02343018 0.025      0.02312412 0.02645253 0.02444585]\n",
      " [0.03092784 0.02264151 0.02925908 0.02739726 0.03210942]\n",
      " [0.03045923 0.03018868 0.03114677 0.03495513 0.00756657]\n",
      " [0.04029991 0.03207547 0.03916942 0.03920642 0.00441383]\n",
      " [0.0398313  0.03207547 0.04058518 0.03778932 0.00703303]]\n"
     ]
    }
   ],
   "source": [
    "print(test_dataset[0:5])"
   ]
  },
  {
   "cell_type": "code",
   "execution_count": 16,
   "metadata": {},
   "outputs": [],
   "source": [
    "x_train = []\n",
    "y_train = []\n",
    "\n",
    "for i in range(60, train_dataset.shape[0]):\n",
    "    x_train.append(train_dataset[i-60:i])\n",
    "    y_train.append(train_dataset[i, 0])\n",
    "\n",
    "x_train, y_train = np.array(x_train), np.array(y_train)"
   ]
  },
  {
   "cell_type": "code",
   "execution_count": 17,
   "metadata": {},
   "outputs": [
    {
     "data": {
      "text/plain": [
       "(3940, 60, 5)"
      ]
     },
     "execution_count": 17,
     "metadata": {},
     "output_type": "execute_result"
    }
   ],
   "source": [
    "x_train.shape"
   ]
  },
  {
   "cell_type": "code",
   "execution_count": 18,
   "metadata": {},
   "outputs": [
    {
     "data": {
      "text/plain": [
       "(3940,)"
      ]
     },
     "execution_count": 18,
     "metadata": {},
     "output_type": "execute_result"
    }
   ],
   "source": [
    "y_train.shape"
   ]
  },
  {
   "cell_type": "code",
   "execution_count": 19,
   "metadata": {},
   "outputs": [
    {
     "data": {
      "text/plain": [
       "array([[0.4717833 , 0.55257271, 0.49069767, 0.5505618 , 0.86236605],\n",
       "       [0.5530474 , 0.55257271, 0.56976744, 0.5505618 , 0.14048786],\n",
       "       [0.5530474 , 0.55257271, 0.56976744, 0.54606742, 0.08766356],\n",
       "       [0.54853273, 0.54809843, 0.56976744, 0.54606742, 0.0320392 ],\n",
       "       [0.55756208, 0.54809843, 0.56976744, 0.55505618, 0.03354693],\n",
       "       [0.54853273, 0.54809843, 0.56976744, 0.54606742, 0.02186204],\n",
       "       [0.54853273, 0.55257271, 0.56976744, 0.55955056, 0.20542782],\n",
       "       [0.56207675, 0.5704698 , 0.5744186 , 0.57752809, 0.06192451],\n",
       "       [0.58013544, 0.58389262, 0.59302326, 0.59101124, 0.09024824],\n",
       "       [0.59367946, 0.59284116, 0.60697674, 0.6       , 0.0228313 ],\n",
       "       [0.59367946, 0.63310962, 0.61627907, 0.63146067, 0.04323946],\n",
       "       [0.63431151, 0.65100671, 0.64883721, 0.64494382, 0.06343223],\n",
       "       [0.66139955, 0.65995526, 0.67674419, 0.65842697, 0.17161165],\n",
       "       [0.67042889, 0.66442953, 0.66744186, 0.64044944, 0.10909483],\n",
       "       [0.64334086, 0.64205817, 0.64883721, 0.62247191, 0.01916967],\n",
       "       [0.63882619, 0.62863535, 0.63488372, 0.61348315, 0.06865543],\n",
       "       [0.61625282, 0.60626398, 0.61162791, 0.59550562, 0.04840881],\n",
       "       [0.60722348, 0.61521253, 0.62093023, 0.61348315, 0.03451618],\n",
       "       [0.62528217, 0.61521253, 0.60697674, 0.59101124, 0.02250821],\n",
       "       [0.59367946, 0.59284116, 0.61162791, 0.59550562, 0.01626191],\n",
       "       [0.58916479, 0.59731544, 0.61162791, 0.60449438, 0.02697755],\n",
       "       [0.60722348, 0.61521253, 0.61627907, 0.60898876, 0.01960045],\n",
       "       [0.62076749, 0.61073826, 0.6255814 , 0.60449438, 0.00441549],\n",
       "       [0.6027088 , 0.6196868 , 0.6255814 , 0.61797753, 0.02266975],\n",
       "       [0.62979684, 0.62863535, 0.63953488, 0.63146067, 0.05729363],\n",
       "       [0.62528217, 0.65548098, 0.64883721, 0.66292135, 0.03860858],\n",
       "       [0.67042889, 0.70469799, 0.68139535, 0.70337079, 0.09224059],\n",
       "       [0.73363431, 0.76733781, 0.74651163, 0.7752809 , 0.06547843],\n",
       "       [0.76975169, 0.76286353, 0.76046512, 0.73033708, 0.14851112],\n",
       "       [0.72460497, 0.71364653, 0.67674419, 0.65842697, 0.15583437],\n",
       "       [0.66591422, 0.65548098, 0.65348837, 0.64044944, 0.03225459],\n",
       "       [0.64334086, 0.63310962, 0.65348837, 0.62696629, 0.07264014],\n",
       "       [0.62979684, 0.63758389, 0.65348837, 0.64044944, 0.04932422],\n",
       "       [0.64785553, 0.65995526, 0.6627907 , 0.63595506, 0.04593183],\n",
       "       [0.6523702 , 0.64205817, 0.65813953, 0.64044944, 0.01981584],\n",
       "       [0.6523702 , 0.64205817, 0.65813953, 0.6494382 , 0.13714932],\n",
       "       [0.6523702 , 0.65548098, 0.66744186, 0.6494382 , 0.02907759],\n",
       "       [0.6523702 , 0.65995526, 0.67674419, 0.66292135, 0.00538474],\n",
       "       [0.67042889, 0.65995526, 0.67674419, 0.6494382 , 0.01039255],\n",
       "       [0.67042889, 0.65995526, 0.67674419, 0.66741573, 0.02444672],\n",
       "       [0.65688488, 0.68232662, 0.68139535, 0.68988764, 0.02234667],\n",
       "       [0.69300226, 0.73154362, 0.71860465, 0.73932584, 0.03290076],\n",
       "       [0.72911964, 0.73154362, 0.75116279, 0.73932584, 0.01383878],\n",
       "       [0.751693  , 0.76733781, 0.76976744, 0.74382022, 0.05519358],\n",
       "       [0.74717833, 0.7360179 , 0.76046512, 0.74382022, 0.01653115],\n",
       "       [0.751693  , 0.75391499, 0.7744186 , 0.75730337, 0.01028485],\n",
       "       [0.75620767, 0.75391499, 0.77906977, 0.75280899, 0.00748479],\n",
       "       [0.751693  , 0.74944072, 0.75581395, 0.73033708, 0.02164665],\n",
       "       [0.73814898, 0.73154362, 0.75116279, 0.73033708, 0.10834096],\n",
       "       [0.73363431, 0.74049217, 0.76046512, 0.74831461, 0.00247698],\n",
       "       [0.76072235, 0.74944072, 0.76976744, 0.74831461, 0.02907759],\n",
       "       [0.74266366, 0.74496644, 0.76976744, 0.73932584, 0.03171612],\n",
       "       [0.75620767, 0.74496644, 0.76976744, 0.75280899, 0.02336977],\n",
       "       [0.75620767, 0.76286353, 0.7744186 , 0.76629213, 0.05788595],\n",
       "       [0.77878104, 0.7852349 , 0.80697674, 0.78876404, 0.1768887 ],\n",
       "       [0.79683973, 0.7852349 , 0.80697674, 0.79325843, 0.11351031],\n",
       "       [0.77878104, 0.7852349 , 0.80697674, 0.7752809 , 0.00640784],\n",
       "       [0.77878104, 0.79418345, 0.80697674, 0.79325843, 0.0195466 ],\n",
       "       [0.78781038, 0.77628635, 0.79767442, 0.77078652, 0.02083894],\n",
       "       [0.78329571, 0.77181208, 0.79302326, 0.76629213, 0.00543859]])"
      ]
     },
     "execution_count": 19,
     "metadata": {},
     "output_type": "execute_result"
    }
   ],
   "source": [
    "x_train[0]"
   ]
  },
  {
   "cell_type": "code",
   "execution_count": 20,
   "metadata": {},
   "outputs": [
    {
     "data": {
      "text/plain": [
       "0.7787810383747177"
      ]
     },
     "execution_count": 20,
     "metadata": {},
     "output_type": "execute_result"
    }
   ],
   "source": [
    "y_train[0]"
   ]
  },
  {
   "cell_type": "code",
   "execution_count": 21,
   "metadata": {},
   "outputs": [],
   "source": [
    "model = tf.keras.models.Sequential()"
   ]
  },
  {
   "cell_type": "code",
   "execution_count": 22,
   "metadata": {},
   "outputs": [],
   "source": [
    "model.add(tf.keras.layers.LSTM(units = 120, activation = 'relu', return_sequences = True, input_shape = (x_train.shape[1], x_train.shape[2])))"
   ]
  },
  {
   "cell_type": "code",
   "execution_count": 23,
   "metadata": {},
   "outputs": [],
   "source": [
    "model.add(tf.keras.layers.LSTM(units = 140, activation = 'relu', return_sequences = True))"
   ]
  },
  {
   "cell_type": "code",
   "execution_count": 24,
   "metadata": {},
   "outputs": [],
   "source": [
    "model.add(tf.keras.layers.Dropout(0.2))"
   ]
  },
  {
   "cell_type": "code",
   "execution_count": 25,
   "metadata": {},
   "outputs": [],
   "source": [
    "model.add(tf.keras.layers.LSTM(units = 80, activation = 'relu', return_sequences = True))"
   ]
  },
  {
   "cell_type": "code",
   "execution_count": 26,
   "metadata": {},
   "outputs": [],
   "source": [
    "model.add(tf.keras.layers.Dropout(0.3))"
   ]
  },
  {
   "cell_type": "code",
   "execution_count": 27,
   "metadata": {},
   "outputs": [],
   "source": [
    "model.add(tf.keras.layers.LSTM(units = 40, activation = 'relu'))"
   ]
  },
  {
   "cell_type": "code",
   "execution_count": 28,
   "metadata": {},
   "outputs": [],
   "source": [
    "model.add(tf.keras.layers.Dense(units = 1))"
   ]
  },
  {
   "cell_type": "code",
   "execution_count": 29,
   "metadata": {},
   "outputs": [
    {
     "name": "stdout",
     "output_type": "stream",
     "text": [
      "Model: \"sequential\"\n",
      "_________________________________________________________________\n",
      "Layer (type)                 Output Shape              Param #   \n",
      "=================================================================\n",
      "lstm (LSTM)                  (None, 60, 120)           60480     \n",
      "_________________________________________________________________\n",
      "lstm_1 (LSTM)                (None, 60, 140)           146160    \n",
      "_________________________________________________________________\n",
      "dropout (Dropout)            (None, 60, 140)           0         \n",
      "_________________________________________________________________\n",
      "lstm_2 (LSTM)                (None, 60, 80)            70720     \n",
      "_________________________________________________________________\n",
      "dropout_1 (Dropout)          (None, 60, 80)            0         \n",
      "_________________________________________________________________\n",
      "lstm_3 (LSTM)                (None, 40)                19360     \n",
      "_________________________________________________________________\n",
      "dense (Dense)                (None, 1)                 41        \n",
      "=================================================================\n",
      "Total params: 296,761\n",
      "Trainable params: 296,761\n",
      "Non-trainable params: 0\n",
      "_________________________________________________________________\n"
     ]
    }
   ],
   "source": [
    "model.summary()"
   ]
  },
  {
   "cell_type": "code",
   "execution_count": 30,
   "metadata": {},
   "outputs": [],
   "source": [
    "model.compile(optimizer='adam', loss='mean_squared_error')"
   ]
  },
  {
   "cell_type": "code",
   "execution_count": 31,
   "metadata": {},
   "outputs": [
    {
     "name": "stdout",
     "output_type": "stream",
     "text": [
      "Train on 3940 samples\n",
      "Epoch 1/5\n",
      "3940/3940 [==============================] - 38s 10ms/sample - loss: 0.0062\n",
      "Epoch 2/5\n",
      "3940/3940 [==============================] - 37s 9ms/sample - loss: 0.0017\n",
      "Epoch 3/5\n",
      "3940/3940 [==============================] - 30s 8ms/sample - loss: 0.0012\n",
      "Epoch 4/5\n",
      "3940/3940 [==============================] - 29s 7ms/sample - loss: 0.0011\n",
      "Epoch 5/5\n",
      "3940/3940 [==============================] - 28s 7ms/sample - loss: 0.0010\n"
     ]
    },
    {
     "data": {
      "text/plain": [
       "<tensorflow.python.keras.callbacks.History at 0x24b1bbcbec8>"
      ]
     },
     "execution_count": 31,
     "metadata": {},
     "output_type": "execute_result"
    }
   ],
   "source": [
    "model.fit(x_train, y_train, epochs=5)"
   ]
  },
  {
   "cell_type": "code",
   "execution_count": 32,
   "metadata": {},
   "outputs": [],
   "source": [
    "x_test = []\n",
    "y_test = []\n",
    "\n",
    "for i in range(60, test_dataset.shape[0]):\n",
    "    x_test.append(test_dataset[i-60:i])\n",
    "    y_test.append(test_dataset[i, 0])\n",
    "    \n",
    "x_test, y_test = np.array(x_test), np.array(y_test)"
   ]
  },
  {
   "cell_type": "code",
   "execution_count": 33,
   "metadata": {},
   "outputs": [
    {
     "data": {
      "text/plain": [
       "((1849, 60, 5), (1849,))"
      ]
     },
     "execution_count": 33,
     "metadata": {},
     "output_type": "execute_result"
    }
   ],
   "source": [
    "x_test.shape, y_test.shape"
   ]
  },
  {
   "cell_type": "code",
   "execution_count": 58,
   "metadata": {},
   "outputs": [],
   "source": [
    "y_predicted = model.predict(x_test)"
   ]
  },
  {
   "cell_type": "code",
   "execution_count": 59,
   "metadata": {},
   "outputs": [
    {
     "data": {
      "text/plain": [
       "array([[0.10202751],\n",
       "       [0.1052134 ],\n",
       "       [0.10729945],\n",
       "       ...,\n",
       "       [0.7226618 ],\n",
       "       [0.7209571 ],\n",
       "       [0.7180738 ]], dtype=float32)"
      ]
     },
     "execution_count": 59,
     "metadata": {},
     "output_type": "execute_result"
    }
   ],
   "source": [
    "y_predicted"
   ]
  },
  {
   "cell_type": "code",
   "execution_count": 60,
   "metadata": {},
   "outputs": [
    {
     "data": {
      "text/plain": [
       "array([4.68603561e-02, 4.71698091e-02, 4.71920717e-02, 4.72366556e-02,\n",
       "       4.85036620e-07])"
      ]
     },
     "execution_count": 60,
     "metadata": {},
     "output_type": "execute_result"
    }
   ],
   "source": [
    " scaler.scale_"
   ]
  },
  {
   "cell_type": "code",
   "execution_count": 61,
   "metadata": {},
   "outputs": [
    {
     "data": {
      "text/plain": [
       "0.046860356138706656"
      ]
     },
     "execution_count": 61,
     "metadata": {},
     "output_type": "execute_result"
    }
   ],
   "source": [
    "scaler.scale_[0]"
   ]
  },
  {
   "cell_type": "code",
   "execution_count": 62,
   "metadata": {},
   "outputs": [],
   "source": [
    "y_predicted = y_predicted/4.68603561e-02"
   ]
  },
  {
   "cell_type": "code",
   "execution_count": 63,
   "metadata": {},
   "outputs": [
    {
     "data": {
      "text/plain": [
       "array([[ 2.177267 ],\n",
       "       [ 2.2452538],\n",
       "       [ 2.2897704],\n",
       "       ...,\n",
       "       [15.421603 ],\n",
       "       [15.385224 ],\n",
       "       [15.323694 ]], dtype=float32)"
      ]
     },
     "execution_count": 63,
     "metadata": {},
     "output_type": "execute_result"
    }
   ],
   "source": [
    "y_predicted"
   ]
  },
  {
   "cell_type": "code",
   "execution_count": 65,
   "metadata": {},
   "outputs": [],
   "source": [
    "y_test = y_test/4.68603561e-02"
   ]
  },
  {
   "cell_type": "code",
   "execution_count": 66,
   "metadata": {},
   "outputs": [
    {
     "data": {
      "text/plain": [
       "array([ 2.27      ,  1.97      ,  1.94      , ..., 16.79000101,\n",
       "       16.43000001, 16.43000001])"
      ]
     },
     "execution_count": 66,
     "metadata": {},
     "output_type": "execute_result"
    }
   ],
   "source": [
    "y_test"
   ]
  },
  {
   "cell_type": "code",
   "execution_count": 67,
   "metadata": {},
   "outputs": [
    {
     "data": {
      "image/png": "[encoded data removed]",
      "text/plain": [
       "<Figure size 1008x360 with 1 Axes>"
      ]
     },
     "metadata": {
      "needs_background": "light"
     },
     "output_type": "display_data"
    }
   ],
   "source": [
    "plt.figure(figsize=(14,5))\n",
    "plt.plot(y_test, color = 'red', label = 'Real Stock Price')\n",
    "plt.plot(y_predicted, color = 'blue', label = 'Predicted Stock Price')\n",
    "plt.title('Yahoo Stock Price')\n",
    "plt.xlabel('Time')\n",
    "plt.ylabel('Price')\n",
    "plt.legend()\n",
    "plt.show()"
   ]
  },
  {
   "cell_type": "code",
   "execution_count": null,
   "metadata": {},
   "outputs": [],
   "source": []
  }
 ],
 "metadata": {
  "kernelspec": {
   "display_name": "Python 3",
   "language": "python",
   "name": "python3"
  },
  "language_info": {
   "codemirror_mode": {
    "name": "ipython",
    "version": 3
   },
   "file_extension": ".py",
   "mimetype": "text/x-python",
   "name": "python",
   "nbconvert_exporter": "python",
   "pygments_lexer": "ipython3",
   "version": "3.7.4"
  }
 },
 "nbformat": 4,
 "nbformat_minor": 2
}
